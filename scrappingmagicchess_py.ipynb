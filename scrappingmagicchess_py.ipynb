{
  "nbformat": 4,
  "nbformat_minor": 0,
  "metadata": {
    "colab": {
      "provenance": []
    },
    "kernelspec": {
      "name": "python3",
      "display_name": "Python 3"
    },
    "language_info": {
      "name": "python"
    }
  },
  "cells": [
    {
      "cell_type": "code",
      "source": [
        "!pip install google-play-scraper pandas"
      ],
      "metadata": {
        "colab": {
          "base_uri": "https://localhost:8080/"
        },
        "id": "Dh2RkptNNfvI",
        "outputId": "7ce89d3b-b946-4222-80f5-1799fc4b937d"
      },
      "execution_count": 1,
      "outputs": [
        {
          "output_type": "stream",
          "name": "stdout",
          "text": [
            "Requirement already satisfied: google-play-scraper in /usr/local/lib/python3.11/dist-packages (1.2.7)\n",
            "Requirement already satisfied: pandas in /usr/local/lib/python3.11/dist-packages (2.2.2)\n",
            "Requirement already satisfied: numpy>=1.23.2 in /usr/local/lib/python3.11/dist-packages (from pandas) (2.0.2)\n",
            "Requirement already satisfied: python-dateutil>=2.8.2 in /usr/local/lib/python3.11/dist-packages (from pandas) (2.9.0.post0)\n",
            "Requirement already satisfied: pytz>=2020.1 in /usr/local/lib/python3.11/dist-packages (from pandas) (2025.2)\n",
            "Requirement already satisfied: tzdata>=2022.7 in /usr/local/lib/python3.11/dist-packages (from pandas) (2025.2)\n",
            "Requirement already satisfied: six>=1.5 in /usr/local/lib/python3.11/dist-packages (from python-dateutil>=2.8.2->pandas) (1.17.0)\n"
          ]
        }
      ]
    },
    {
      "cell_type": "code",
      "execution_count": 2,
      "metadata": {
        "id": "v4-qmEpvMv9V"
      },
      "outputs": [],
      "source": [
        "import pandas as pd\n",
        "from google_play_scraper import app, reviews, Sort, reviews_all\n",
        "scrapreview = reviews_all(\n",
        "    'com.mobilechess.gp',   # ID aplikasi\n",
        "    lang='id',              # Bahasa ulasan\n",
        "    country='id',           # Negara\n",
        "    sort=Sort.MOST_RELEVANT,# Urutan ulasan\n",
        ")\n",
        "review_app_df = pd.DataFrame(scrapreview)\n",
        "\n",
        "jumlah_ulasan, jumlah_kolom = review_app_df.shape\n",
        "\n",
        "review_app_df.to_csv('ulasan_mcgg.csv', index=False)"
      ]
    }
  ]
}