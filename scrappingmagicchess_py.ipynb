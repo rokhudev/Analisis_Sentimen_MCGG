{
  "nbformat": 4,
  "nbformat_minor": 0,
  "metadata": {
    "colab": {
      "provenance": []
    },
    "kernelspec": {
      "name": "python3",
      "display_name": "Python 3"
    },
    "language_info": {
      "name": "python"
    }
  },
  "cells": [
    {
      "cell_type": "code",
      "source": [
        "!pip install google-play-scraper"
      ],
      "metadata": {
        "colab": {
          "base_uri": "https://localhost:8080/"
        },
        "id": "Dh2RkptNNfvI",
        "outputId": "a1e5d621-3b35-4ca8-b6fa-1175d27c8e4f"
      },
      "execution_count": 3,
      "outputs": [
        {
          "output_type": "stream",
          "name": "stdout",
          "text": [
            "Collecting google-play-scraper\n",
            "  Downloading google_play_scraper-1.2.7-py3-none-any.whl.metadata (50 kB)\n",
            "\u001b[?25l     \u001b[90m━━━━━━━━━━━━━━━━━━━━━━━━━━━━━━━━━━━━━━━━\u001b[0m \u001b[32m0.0/50.2 kB\u001b[0m \u001b[31m?\u001b[0m eta \u001b[36m-:--:--\u001b[0m\r\u001b[2K     \u001b[90m━━━━━━━━━━━━━━━━━━━━━━━━━━━━━━━━━━━━━━━━\u001b[0m \u001b[32m50.2/50.2 kB\u001b[0m \u001b[31m3.5 MB/s\u001b[0m eta \u001b[36m0:00:00\u001b[0m\n",
            "\u001b[?25hDownloading google_play_scraper-1.2.7-py3-none-any.whl (28 kB)\n",
            "Installing collected packages: google-play-scraper\n",
            "Successfully installed google-play-scraper-1.2.7\n"
          ]
        }
      ]
    },
    {
      "cell_type": "code",
      "execution_count": 4,
      "metadata": {
        "id": "v4-qmEpvMv9V"
      },
      "outputs": [],
      "source": [
        "from google_play_scraper import app, reviews, Sort, reviews_all\n",
        "\n",
        "scrapreview = reviews_all(\n",
        "    'com.mobilechess.gp',   # ID aplikasi\n",
        "    lang='id',              # Bahasa ulasan\n",
        "    country='id',           # Negara\n",
        "    sort=Sort.MOST_RELEVANT,# Urutan ulasan\n",
        ")\n",
        "review_app_df = pd.DataFrame(scrapreview)\n",
        "\n",
        "jumlah_ulasan, jumlah_kolom = review_app_df.shape\n",
        "\n",
        "review_app_df.to_csv('ulasan_mcgg.csv', index=False)"
      ]
    }
  ]
}